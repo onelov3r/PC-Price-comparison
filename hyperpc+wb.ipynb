{
 "cells": [
  {
   "cell_type": "code",
   "execution_count": 6,
   "id": "0db73ff1-8347-49e3-ac6e-66e47a107f12",
   "metadata": {},
   "outputs": [],
   "source": [
    "import requests\n",
    "from bs4 import BeautifulSoup"
   ]
  },
  {
   "cell_type": "code",
   "execution_count": 12,
   "id": "320d580d-d565-431d-8637-9cea32451853",
   "metadata": {},
   "outputs": [
    {
     "name": "stdout",
     "output_type": "stream",
     "text": [
      "1. Palit GeForce RTX 5060 Dual [8GB, 3840 CUDA]\n",
      "2. Intel® Core™ i5-12400F [до 4.4GHz, 6 ядер]\n",
      "3. MSI B760M GAMING PLUS [DDR5, Wi-Fi]\n",
      "4. DeepCool AG400 BK ARGB V2\n",
      "5. 32GB TEAMGROUP T-Force Delta RGB Black [DDR5, 6000MHz, 2x16GB]\n",
      "6. 1TB ADATA LEGEND 860 [6000MB/s, Gen4]\n",
      "7. 550W DeepCool PL550D [80+ Bronze]\n",
      "8. DeepCool CH260 Black\n",
      "9. Нанесение термоинтерфейса\n",
      "10. DeepCool FD12 ARGB Black\n",
      "11. Стандартная Бирюзовая\n",
      "12. Microsoft Windows 11 Home OEM\n",
      "13. Kaspersky Premium\n",
      "14. Стандартный срок производства\n",
      "15. Пакет гарантии Optimal\n"
     ]
    }
   ],
   "source": [
    "response = requests.get('https://hyperpc.ru/gaming-pc/play/5')\n",
    "soup = BeautifulSoup(response.text, \"html.parser\")\n",
    "\n",
    "components = soup.find_all(\"h3\", class_=\"hp-equipment-part__name\")\n",
    "array_components = []\n",
    "\n",
    "for idx, component in enumerate(components, 1):\n",
    "    array_components.append(component.text.strip())\n",
    "    print(f\"{idx}. {component.text.strip()}\")"
   ]
  },
  {
   "cell_type": "code",
   "execution_count": 56,
   "id": "714a57ce-fa6f-41f0-bcee-ff4e3ef10992",
   "metadata": {},
   "outputs": [
    {
     "name": "stdout",
     "output_type": "stream",
     "text": [
      "Palit GeForce RTX 5060 Dual [8GB, 3840 CUDA] 39783.0\n",
      "Intel® Core™ i5-12400F [до 4.4GHz, 6 ядер] 9141.0\n",
      "MSI B760M GAMING PLUS [DDR5, Wi-Fi] 15257.0\n",
      "DeepCool AG400 BK ARGB V2 2399.0\n",
      "32GB TEAMGROUP T-Force Delta RGB Black [DDR5, 6000MHz, 2x16GB] 17938.0\n",
      "1TB ADATA LEGEND 860 [6000MB/s, Gen4] 6119.0\n",
      "550W DeepCool PL550D [80+ Bronze] 5387.0\n",
      "DeepCool CH260 Black 6157.0\n"
     ]
    }
   ],
   "source": [
    "import pandas as pd\n",
    "import re\n",
    "\n",
    "price_on_wb = []\n",
    "for component in array_components[:8]:\n",
    "    cleaned = re.sub(r'\\[.*?\\]', '', component).strip()\n",
    "    res = requests.get(f'https://search.wb.ru/exactmatch/ru/common/v13/search?ab_testing=false&appType=1&curr=rub&dest=123589415&hide_dtype=13&lang=ru&page={1}&query={cleaned}&resultset=catalog&sort=popular&spp=30&suppressSpellcheck=false')\n",
    "    price_on_wb.append(res.json()['data']['products'][0][\"sizes\"][0][\"price\"][\"total\"] / 100)\n",
    "    print(component, price_on_wb[-1])\n"
   ]
  },
  {
   "cell_type": "code",
   "execution_count": 58,
   "id": "5cd508fa-f78c-4716-a0d9-bf8cac125f97",
   "metadata": {},
   "outputs": [
    {
     "data": {
      "text/html": [
       "<div>\n",
       "<style scoped>\n",
       "    .dataframe tbody tr th:only-of-type {\n",
       "        vertical-align: middle;\n",
       "    }\n",
       "\n",
       "    .dataframe tbody tr th {\n",
       "        vertical-align: top;\n",
       "    }\n",
       "\n",
       "    .dataframe thead th {\n",
       "        text-align: right;\n",
       "    }\n",
       "</style>\n",
       "<table border=\"1\" class=\"dataframe\">\n",
       "  <thead>\n",
       "    <tr style=\"text-align: right;\">\n",
       "      <th></th>\n",
       "      <th>Component</th>\n",
       "      <th>WB Price</th>\n",
       "    </tr>\n",
       "  </thead>\n",
       "  <tbody>\n",
       "    <tr>\n",
       "      <th>0</th>\n",
       "      <td>Palit GeForce RTX 5060 Dual [8GB, 3840 CUDA]</td>\n",
       "      <td>39783.0</td>\n",
       "    </tr>\n",
       "    <tr>\n",
       "      <th>1</th>\n",
       "      <td>Intel® Core™ i5-12400F [до 4.4GHz, 6 ядер]</td>\n",
       "      <td>9141.0</td>\n",
       "    </tr>\n",
       "    <tr>\n",
       "      <th>2</th>\n",
       "      <td>MSI B760M GAMING PLUS [DDR5, Wi-Fi]</td>\n",
       "      <td>15257.0</td>\n",
       "    </tr>\n",
       "    <tr>\n",
       "      <th>3</th>\n",
       "      <td>DeepCool AG400 BK ARGB V2</td>\n",
       "      <td>2399.0</td>\n",
       "    </tr>\n",
       "    <tr>\n",
       "      <th>4</th>\n",
       "      <td>32GB TEAMGROUP T-Force Delta RGB Black [DDR5, ...</td>\n",
       "      <td>17938.0</td>\n",
       "    </tr>\n",
       "    <tr>\n",
       "      <th>5</th>\n",
       "      <td>1TB ADATA LEGEND 860 [6000MB/s, Gen4]</td>\n",
       "      <td>6119.0</td>\n",
       "    </tr>\n",
       "    <tr>\n",
       "      <th>6</th>\n",
       "      <td>550W DeepCool PL550D [80+ Bronze]</td>\n",
       "      <td>5387.0</td>\n",
       "    </tr>\n",
       "    <tr>\n",
       "      <th>7</th>\n",
       "      <td>DeepCool CH260 Black</td>\n",
       "      <td>6157.0</td>\n",
       "    </tr>\n",
       "  </tbody>\n",
       "</table>\n",
       "</div>"
      ],
      "text/plain": [
       "                                           Component  WB Price\n",
       "0       Palit GeForce RTX 5060 Dual [8GB, 3840 CUDA]   39783.0\n",
       "1         Intel® Core™ i5-12400F [до 4.4GHz, 6 ядер]    9141.0\n",
       "2                MSI B760M GAMING PLUS [DDR5, Wi-Fi]   15257.0\n",
       "3                          DeepCool AG400 BK ARGB V2    2399.0\n",
       "4  32GB TEAMGROUP T-Force Delta RGB Black [DDR5, ...   17938.0\n",
       "5              1TB ADATA LEGEND 860 [6000MB/s, Gen4]    6119.0\n",
       "6                  550W DeepCool PL550D [80+ Bronze]    5387.0\n",
       "7                               DeepCool CH260 Black    6157.0"
      ]
     },
     "execution_count": 58,
     "metadata": {},
     "output_type": "execute_result"
    }
   ],
   "source": [
    "df = pd.DataFrame({\n",
    "    'Component': array_components[:8],\n",
    "    'WB Price': price_on_wb\n",
    "})\n",
    "df"
   ]
  },
  {
   "cell_type": "code",
   "execution_count": 60,
   "id": "a727e2ab-812d-4863-b75e-bdabf99e3a40",
   "metadata": {},
   "outputs": [
    {
     "data": {
      "text/plain": [
       "102181.0"
      ]
     },
     "execution_count": 60,
     "metadata": {},
     "output_type": "execute_result"
    }
   ],
   "source": [
    "df['WB Price'].sum()"
   ]
  },
  {
   "cell_type": "code",
   "execution_count": null,
   "id": "dd88074b-2b50-41a0-976e-a8b66e35b468",
   "metadata": {},
   "outputs": [],
   "source": []
  }
 ],
 "metadata": {
  "kernelspec": {
   "display_name": "Python 3 (ipykernel)",
   "language": "python",
   "name": "python3"
  },
  "language_info": {
   "codemirror_mode": {
    "name": "ipython",
    "version": 3
   },
   "file_extension": ".py",
   "mimetype": "text/x-python",
   "name": "python",
   "nbconvert_exporter": "python",
   "pygments_lexer": "ipython3",
   "version": "3.12.3"
  }
 },
 "nbformat": 4,
 "nbformat_minor": 5
}
